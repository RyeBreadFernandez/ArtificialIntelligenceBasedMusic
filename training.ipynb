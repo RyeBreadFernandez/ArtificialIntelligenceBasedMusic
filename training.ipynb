{
 "cells": [
  {
   "cell_type": "markdown",
   "metadata": {},
   "source": [
    "# AnimeLSTM\n",
    "Basically what I'm trying to do is train a NN to learn to play anime piano music. All training data is in ./data and bellow I encode each note in every song into an array (if its a chord I encode the chord into a string speparated by \".\"). Then I'll use an LSTM to guess what chord comes next after letting it predict it based on ~100 past notes."
   ]
  },
  {
   "cell_type": "code",
   "execution_count": 111,
   "metadata": {},
   "outputs": [],
   "source": [
    "# imports\n",
    "from tqdm.notebook import tqdm\n",
    "import numpy as np\n",
    "import glob\n",
    "from time import time\n",
    "from tensorflow.keras.callbacks import TensorBoard\n",
    "from tensorflow.keras.models import Sequential\n",
    "from tensorflow.keras.layers import Dense\n",
    "from tensorflow.keras.layers import Dropout\n",
    "from tensorflow.keras.layers import LSTM\n",
    "from tensorflow.keras.layers import Activation\n",
    "from tensorflow.keras.layers import BatchNormalization as BatchNorm\n",
    "from tensorflow.keras.callbacks import ModelCheckpoint\n",
    "from tensorflow.keras.utils import to_categorical\n",
    "from music21 import converter, instrument, note, chord, stream"
   ]
  },
  {
   "cell_type": "code",
   "execution_count": 123,
   "metadata": {},
   "outputs": [
    {
     "data": {
      "application/vnd.jupyter.widget-view+json": {
       "model_id": "aeae853ee2764b888953ebad9068837b",
       "version_major": 2,
       "version_minor": 0
      },
      "text/plain": [
       "HBox(children=(IntProgress(value=0, max=112), HTML(value='')))"
      ]
     },
     "metadata": {},
     "output_type": "display_data"
    },
    {
     "name": "stdout",
     "output_type": "stream",
     "text": [
      "\n"
     ]
    }
   ],
   "source": [
    "notes = []\n",
    "allFiles = glob.glob(\"data/*.mid\")\n",
    "for file in tqdm(allFiles):\n",
    "    midi = converter.parse(file)\n",
    "    notes_to_parse = None\n",
    "    parts = instrument.partitionByInstrument(midi)\n",
    "    if parts: # file has instrument parts\n",
    "        notes_to_parse = parts.parts[0].recurse()\n",
    "    else: # file has notes in a flat structure\n",
    "        notes_to_parse = midi.flat.notes\n",
    "    for sound in notes_to_parse:\n",
    "        if isinstance(sound, note.Note):\n",
    "            notes.append(str(sound.pitch))\n",
    "        elif isinstance(sound, chord.Chord):\n",
    "            notes.append('.'.join(str(n) for n in sound.normalOrder))"
   ]
  },
  {
   "cell_type": "markdown",
   "metadata": {},
   "source": [
    "Save the notes in notes.npy and turn into numpy array for easy use later on."
   ]
  },
  {
   "cell_type": "code",
   "execution_count": 127,
   "metadata": {},
   "outputs": [],
   "source": [
    "notes = np.array(notes)\n",
    "np.save(\"notes.npy\",notes)"
   ]
  },
  {
   "cell_type": "markdown",
   "metadata": {},
   "source": [
    "Parse the data into LSTM compatible data (uses past 100 notes to predict next 1)"
   ]
  },
  {
   "cell_type": "code",
   "execution_count": 126,
   "metadata": {},
   "outputs": [],
   "source": [
    "sequence_length = 300\n",
    "\n",
    "# get all pitch names\n",
    "pitchnames = sorted(set(item for item in notes))\n",
    "# create a dictionary to map pitches to integers\n",
    "note_to_int = dict((note, number) for number, note in enumerate(pitchnames))\n",
    "network_input = []\n",
    "network_output = []\n",
    "# create input sequences and the corresponding outputs\n",
    "for i in range(0, len(notes) - sequence_length, 1):\n",
    "    sequence_in = notes[i:i + sequence_length]\n",
    "    sequence_out = notes[i + sequence_length]\n",
    "    network_input.append([note_to_int[char] for char in sequence_in])\n",
    "    network_output.append(note_to_int[sequence_out])\n",
    "n_patterns = len(network_input)\n",
    "# reshape the input into a format compatible with LSTM layers\n",
    "network_input = np.reshape(network_input, (n_patterns, sequence_length, 1))\n",
    "# normalize input\n",
    "non_normalized_input = network_input\n",
    "network_input = network_input / float(len(pitchnames))\n",
    "network_output = to_categorical(network_output)"
   ]
  },
  {
   "cell_type": "code",
   "execution_count": 129,
   "metadata": {},
   "outputs": [],
   "source": [
    "np.save(\"x.npy\", network_input)\n",
    "np.save(\"y.npy\", network_output)"
   ]
  },
  {
   "cell_type": "code",
   "execution_count": 130,
   "metadata": {},
   "outputs": [],
   "source": [
    "model = Sequential()\n",
    "model.add(LSTM(\n",
    "    400,\n",
    "    input_shape=(network_input.shape[1], network_input.shape[2]),\n",
    "    return_sequences=True\n",
    "))\n",
    "model.add(Dropout(0.3))\n",
    "model.add(LSTM(800, return_sequences=True))\n",
    "model.add(Dropout(0.3))\n",
    "model.add(LSTM(400))\n",
    "model.add(Dense(400))\n",
    "model.add(Dropout(0.3))\n",
    "model.add(Dense(len(pitchnames)))\n",
    "model.add(Activation('softmax'))\n",
    "model.compile(loss='categorical_crossentropy', optimizer='rmsprop')"
   ]
  },
  {
   "cell_type": "code",
   "execution_count": null,
   "metadata": {},
   "outputs": [
    {
     "name": "stdout",
     "output_type": "stream",
     "text": [
      "Train on 77735 samples\n",
      "Epoch 1/300\n"
     ]
    },
    {
     "name": "stdout",
     "output_type": "stream",
     "text": [
      "19968/77735 [======>.......................] - ETA: 34:16 - loss: 5.65 - ETA: 34:10 - loss: 5.61 - ETA: 34:24 - loss: 5.77 - ETA: 34:24 - loss: 5.66 - ETA: 34:19 - loss: 5.54 - ETA: 34:14 - loss: 5.45 - ETA: 34:11 - loss: 5.37 - ETA: 34:08 - loss: 5.33 - ETA: 34:05 - loss: 5.30 - ETA: 34:02 - loss: 5.27 - ETA: 34:00 - loss: 5.24 - ETA: 33:58 - loss: 5.22 - ETA: 33:56 - loss: 5.21 - ETA: 33:54 - loss: 5.19 - ETA: 33:52 - loss: 5.17 - ETA: 33:51 - loss: 5.17 - ETA: 33:49 - loss: 5.16 - ETA: 33:46 - loss: 5.15 - ETA: 33:45 - loss: 5.13 - ETA: 33:43 - loss: 5.11 - ETA: 33:41 - loss: 5.10 - ETA: 33:39 - loss: 5.09 - ETA: 33:38 - loss: 5.09 - ETA: 33:36 - loss: 5.07 - ETA: 33:34 - loss: 5.07 - ETA: 33:32 - loss: 5.06 - ETA: 33:31 - loss: 5.05 - ETA: 33:30 - loss: 5.05 - ETA: 33:28 - loss: 5.04 - ETA: 33:27 - loss: 5.03 - ETA: 33:27 - loss: 5.03 - ETA: 33:26 - loss: 5.02 - ETA: 33:25 - loss: 5.02 - ETA: 33:23 - loss: 5.01 - ETA: 33:21 - loss: 5.01 - ETA: 33:20 - loss: 5.01 - ETA: 33:21 - loss: 5.01 - ETA: 33:21 - loss: 5.00 - ETA: 33:19 - loss: 5.00 - ETA: 33:16 - loss: 4.99 - ETA: 33:15 - loss: 4.99 - ETA: 33:13 - loss: 4.99 - ETA: 33:11 - loss: 4.98 - ETA: 33:09 - loss: 4.98 - ETA: 33:07 - loss: 4.98 - ETA: 33:05 - loss: 4.97 - ETA: 33:04 - loss: 4.97 - ETA: 33:02 - loss: 4.96 - ETA: 33:01 - loss: 4.96 - ETA: 32:59 - loss: 4.95 - ETA: 32:57 - loss: 4.96 - ETA: 32:55 - loss: 4.96 - ETA: 32:53 - loss: 4.95 - ETA: 32:52 - loss: 4.95 - ETA: 32:51 - loss: 4.95 - ETA: 32:49 - loss: 4.95 - ETA: 32:48 - loss: 4.95 - ETA: 32:46 - loss: 4.94 - ETA: 32:45 - loss: 4.94 - ETA: 32:43 - loss: 4.94 - ETA: 32:42 - loss: 4.93 - ETA: 32:40 - loss: 4.93 - ETA: 32:38 - loss: 4.93 - ETA: 32:36 - loss: 4.93 - ETA: 32:34 - loss: 4.93 - ETA: 32:33 - loss: 4.92 - ETA: 32:31 - loss: 4.92 - ETA: 32:29 - loss: 4.92 - ETA: 32:27 - loss: 4.92 - ETA: 32:26 - loss: 5.02 - ETA: 32:24 - loss: 5.03 - ETA: 32:22 - loss: 5.02 - ETA: 32:20 - loss: 5.02 - ETA: 32:18 - loss: 5.02 - ETA: 32:17 - loss: 5.02 - ETA: 32:15 - loss: 5.01 - ETA: 32:14 - loss: 5.01 - ETA: 32:12 - loss: 5.01 - ETA: 32:10 - loss: 5.00 - ETA: 32:09 - loss: 5.00 - ETA: 32:07 - loss: 5.00 - ETA: 32:05 - loss: 4.99 - ETA: 32:03 - loss: 4.99 - ETA: 32:02 - loss: 4.99 - ETA: 32:00 - loss: 4.99 - ETA: 31:58 - loss: 4.99 - ETA: 31:57 - loss: 4.98 - ETA: 31:56 - loss: 4.98 - ETA: 31:55 - loss: 4.98 - ETA: 31:53 - loss: 4.98 - ETA: 31:52 - loss: 4.97 - ETA: 31:51 - loss: 4.97 - ETA: 31:49 - loss: 4.97 - ETA: 31:47 - loss: 4.97 - ETA: 31:46 - loss: 4.97 - ETA: 31:44 - loss: 4.97 - ETA: 31:43 - loss: 4.96 - ETA: 31:41 - loss: 4.96 - ETA: 31:40 - loss: 4.96 - ETA: 31:38 - loss: 4.96 - ETA: 31:36 - loss: 4.96 - ETA: 31:34 - loss: 4.96 - ETA: 31:33 - loss: 4.95 - ETA: 31:31 - loss: 4.95 - ETA: 31:29 - loss: 4.95 - ETA: 31:27 - loss: 4.95 - ETA: 31:26 - loss: 4.95 - ETA: 31:24 - loss: 4.95 - ETA: 31:22 - loss: 4.95 - ETA: 31:21 - loss: 4.94 - ETA: 31:19 - loss: 4.94 - ETA: 31:18 - loss: 4.94 - ETA: 31:17 - loss: 4.94 - ETA: 31:15 - loss: 4.94 - ETA: 31:14 - loss: 4.94 - ETA: 31:12 - loss: 4.93 - ETA: 31:11 - loss: 4.93 - ETA: 31:09 - loss: 4.93 - ETA: 31:08 - loss: 4.93 - ETA: 31:06 - loss: 4.93 - ETA: 31:05 - loss: 4.93 - ETA: 31:03 - loss: 4.93 - ETA: 31:02 - loss: 4.92 - ETA: 31:00 - loss: 4.92 - ETA: 30:59 - loss: 4.92 - ETA: 30:57 - loss: 4.92 - ETA: 30:56 - loss: 4.92 - ETA: 30:54 - loss: 4.92 - ETA: 30:53 - loss: 4.92 - ETA: 30:51 - loss: 4.92 - ETA: 30:49 - loss: 4.91 - ETA: 30:48 - loss: 4.91 - ETA: 30:46 - loss: 4.91 - ETA: 30:45 - loss: 4.91 - ETA: 30:44 - loss: 4.91 - ETA: 30:42 - loss: 4.91 - ETA: 30:40 - loss: 4.97 - ETA: 30:39 - loss: 4.97 - ETA: 30:37 - loss: 4.97 - ETA: 30:36 - loss: 4.97 - ETA: 30:34 - loss: 4.97 - ETA: 30:33 - loss: 4.98 - ETA: 30:31 - loss: 4.98 - ETA: 30:30 - loss: 4.97 - ETA: 30:28 - loss: 4.97 - ETA: 30:27 - loss: 4.97 - ETA: 30:25 - loss: 4.97 - ETA: 30:24 - loss: 4.97 - ETA: 30:22 - loss: 4.97 - ETA: 30:21 - loss: 4.96 - ETA: 30:19 - loss: 4.96 - ETA: 30:18 - loss: 4.96 - ETA: 30:17 - loss: 4.96 - ETA: 30:15 - loss: 4.96 - ETA: 30:14 - loss: 4.96 - ETA: 30:13 - loss: 4.96 - ETA: 30:11 - loss: 4.96 - ETA: 30:10 - loss: 4.95 - ETA: 30:08 - loss: 4.95 - ETA: 30:07 - loss: 4.95 - ETA: 30:05 - loss: 4.95 - ETA: 30:04 - loss: 4.95 - ETA: 30:02 - loss: 4.95 - ETA: 30:00 - loss: 4.95 - ETA: 29:59 - loss: 4.95 - ETA: 29:57 - loss: 4.95 - ETA: 29:56 - loss: 4.95 - ETA: 29:54 - loss: 4.94 - ETA: 29:53 - loss: 4.94 - ETA: 29:51 - loss: 4.94 - ETA: 29:50 - loss: 4.94 - ETA: 29:48 - loss: 4.94 - ETA: 29:47 - loss: 4.94 - ETA: 29:45 - loss: 4.94 - ETA: 29:44 - loss: 4.94 - ETA: 29:42 - loss: 4.94 - ETA: 29:40 - loss: 4.93 - ETA: 29:39 - loss: 4.93 - ETA: 29:37 - loss: 4.93 - ETA: 29:36 - loss: 4.93 - ETA: 29:34 - loss: 4.93 - ETA: 29:33 - loss: 4.93 - ETA: 29:31 - loss: 4.93 - ETA: 29:30 - loss: 4.93 - ETA: 29:28 - loss: 4.93 - ETA: 29:26 - loss: 4.93 - ETA: 29:25 - loss: 4.93 - ETA: 29:23 - loss: 4.93 - ETA: 29:22 - loss: 4.93 - ETA: 29:20 - loss: 4.92 - ETA: 29:18 - loss: 4.92 - ETA: 29:17 - loss: 4.92 - ETA: 29:15 - loss: 4.92 - ETA: 29:13 - loss: 4.92 - ETA: 29:12 - loss: 4.92 - ETA: 29:10 - loss: 4.92 - ETA: 29:09 - loss: 4.92 - ETA: 29:07 - loss: 4.92 - ETA: 29:05 - loss: 4.92 - ETA: 29:04 - loss: 4.92 - ETA: 29:02 - loss: 4.92 - ETA: 29:01 - loss: 4.92 - ETA: 28:59 - loss: 4.91 - ETA: 28:57 - loss: 4.91 - ETA: 28:55 - loss: 4.91 - ETA: 28:54 - loss: 4.91 - ETA: 28:52 - loss: 4.91 - ETA: 28:51 - loss: 4.91 - ETA: 28:49 - loss: 4.91 - ETA: 28:47 - loss: 4.91 - ETA: 28:46 - loss: 4.91 - ETA: 28:44 - loss: 4.91 - ETA: 28:43 - loss: 4.91 - ETA: 28:42 - loss: 4.90 - ETA: 28:40 - loss: 4.90 - ETA: 28:38 - loss: 4.90 - ETA: 28:37 - loss: 4.90 - ETA: 28:35 - loss: 4.90 - ETA: 28:34 - loss: 4.90 - ETA: 28:32 - loss: 4.90 - ETA: 28:31 - loss: 4.90 - ETA: 28:29 - loss: 4.90 - ETA: 28:27 - loss: 4.90 - ETA: 28:26 - loss: 4.90 - ETA: 28:24 - loss: 4.90 - ETA: 28:23 - loss: 4.90 - ETA: 28:21 - loss: 4.90 - ETA: 28:19 - loss: 4.90 - ETA: 28:17 - loss: 4.90 - ETA: 28:16 - loss: 4.90 - ETA: 28:14 - loss: 4.89 - ETA: 28:12 - loss: 4.89 - ETA: 28:10 - loss: 4.89 - ETA: 28:09 - loss: 4.89 - ETA: 28:07 - loss: 4.89 - ETA: 28:05 - loss: 4.89 - ETA: 28:04 - loss: 4.89 - ETA: 28:02 - loss: 4.89 - ETA: 28:00 - loss: 4.89 - ETA: 27:59 - loss: 4.89 - ETA: 27:57 - loss: 4.89 - ETA: 27:56 - loss: 4.89 - ETA: 27:54 - loss: 4.89 - ETA: 27:53 - loss: 4.89 - ETA: 27:51 - loss: 4.89 - ETA: 27:50 - loss: 4.89 - ETA: 27:48 - loss: 4.89 - ETA: 27:47 - loss: 4.89 - ETA: 27:45 - loss: 4.89 - ETA: 27:43 - loss: 4.89 - ETA: 27:41 - loss: 4.89 - ETA: 27:40 - loss: 4.89 - ETA: 27:38 - loss: 4.89 - ETA: 27:36 - loss: 4.89 - ETA: 27:35 - loss: 4.89 - ETA: 27:33 - loss: 4.89 - ETA: 27:31 - loss: 4.89 - ETA: 27:30 - loss: 4.89 - ETA: 27:28 - loss: 4.88 - ETA: 27:26 - loss: 4.88 - ETA: 27:25 - loss: 4.88 - ETA: 27:23 - loss: 4.88 - ETA: 27:22 - loss: 4.88 - ETA: 27:20 - loss: 4.88 - ETA: 27:19 - loss: 4.88 - ETA: 27:17 - loss: 4.88 - ETA: 27:15 - loss: 4.88 - ETA: 27:14 - loss: 4.88 - ETA: 27:12 - loss: 4.88 - ETA: 27:11 - loss: 4.88 - ETA: 27:09 - loss: 4.88 - ETA: 27:07 - loss: 4.88 - ETA: 27:06 - loss: 4.88 - ETA: 27:04 - loss: 4.88 - ETA: 27:03 - loss: 4.88 - ETA: 27:01 - loss: 4.88 - ETA: 26:59 - loss: 4.88 - ETA: 26:58 - loss: 4.88 - ETA: 26:56 - loss: 4.88 - ETA: 26:55 - loss: 4.88 - ETA: 26:53 - loss: 4.87 - ETA: 26:51 - loss: 4.87 - ETA: 26:50 - loss: 4.87 - ETA: 26:48 - loss: 4.87 - ETA: 26:46 - loss: 4.87 - ETA: 26:44 - loss: 4.87 - ETA: 26:43 - loss: 4.87 - ETA: 26:41 - loss: 4.87 - ETA: 26:39 - loss: 4.87 - ETA: 26:38 - loss: 4.87 - ETA: 26:36 - loss: 4.87 - ETA: 26:34 - loss: 4.87 - ETA: 26:33 - loss: 4.87 - ETA: 26:31 - loss: 4.87 - ETA: 26:29 - loss: 4.87 - ETA: 26:28 - loss: 4.87 - ETA: 26:26 - loss: 4.87 - ETA: 26:24 - loss: 4.87 - ETA: 26:23 - loss: 4.87 - ETA: 26:21 - loss: 4.87 - ETA: 26:19 - loss: 4.87 - ETA: 26:18 - loss: 4.87 - ETA: 26:16 - loss: 4.87 - ETA: 26:14 - loss: 4.87 - ETA: 26:13 - loss: 4.87 - ETA: 26:11 - loss: 4.87 - ETA: 26:10 - loss: 4.87 - ETA: 26:08 - loss: 4.87 - ETA: 26:06 - loss: 4.87 - ETA: 26:04 - loss: 4.87 - ETA: 26:03 - loss: 4.87 - ETA: 26:01 - loss: 4.8703\b\b\b\b\b\b\b\b\b\b\b\b\b\b\b\b\b\b\b\b\b\b\b\b\b\b\b\b\b\b\b\b\b\b\b\b\b\b\b\b\b\b\b\b\b\b\b\b\b\b\b\b\b\b\b\b\b\b\b\b\b\b\b\b\b\b\b\b\b\b\b\b"
     ]
    },
    {
     "name": "stdout",
     "output_type": "stream",
     "text": [
      "40064/77735 [==============>...............] - ETA: 25:59 - loss: 4.86 - ETA: 25:57 - loss: 4.87 - ETA: 25:56 - loss: 4.86 - ETA: 25:54 - loss: 4.86 - ETA: 25:52 - loss: 4.86 - ETA: 25:51 - loss: 4.86 - ETA: 25:49 - loss: 4.86 - ETA: 25:47 - loss: 4.86 - ETA: 25:46 - loss: 4.86 - ETA: 25:44 - loss: 4.86 - ETA: 25:42 - loss: 4.86 - ETA: 25:40 - loss: 4.86 - ETA: 25:39 - loss: 4.86 - ETA: 25:37 - loss: 4.86 - ETA: 25:35 - loss: 4.86 - ETA: 25:33 - loss: 4.86 - ETA: 25:32 - loss: 4.86 - ETA: 25:30 - loss: 4.86 - ETA: 25:28 - loss: 4.86 - ETA: 25:26 - loss: 4.86 - ETA: 25:25 - loss: 4.86 - ETA: 25:23 - loss: 4.86 - ETA: 25:21 - loss: 4.86 - ETA: 25:20 - loss: 4.86 - ETA: 25:18 - loss: 4.86 - ETA: 25:16 - loss: 4.86 - ETA: 25:14 - loss: 4.86 - ETA: 25:13 - loss: 4.86 - ETA: 25:11 - loss: 4.86 - ETA: 25:09 - loss: 4.86 - ETA: 25:07 - loss: 4.86 - ETA: 25:06 - loss: 4.86 - ETA: 25:04 - loss: 4.86 - ETA: 25:02 - loss: 4.86 - ETA: 25:00 - loss: 4.86 - ETA: 24:59 - loss: 4.86 - ETA: 24:57 - loss: 4.86 - ETA: 24:55 - loss: 4.86 - ETA: 24:54 - loss: 4.86 - ETA: 24:52 - loss: 4.86 - ETA: 24:50 - loss: 4.86 - ETA: 24:49 - loss: 4.86 - ETA: 24:47 - loss: 4.86 - ETA: 24:45 - loss: 4.86 - ETA: 24:43 - loss: 4.86 - ETA: 24:42 - loss: 4.85 - ETA: 24:40 - loss: 4.85 - ETA: 24:38 - loss: 4.85 - ETA: 24:37 - loss: 4.85 - ETA: 24:35 - loss: 4.85 - ETA: 24:33 - loss: 4.85 - ETA: 24:31 - loss: 4.85 - ETA: 24:30 - loss: 4.85 - ETA: 24:28 - loss: 4.85 - ETA: 24:26 - loss: 4.85 - ETA: 24:25 - loss: 4.85 - ETA: 24:23 - loss: 4.85 - ETA: 24:21 - loss: 4.85 - ETA: 24:19 - loss: 4.85 - ETA: 24:18 - loss: 4.85 - ETA: 24:16 - loss: 4.85 - ETA: 24:14 - loss: 4.85 - ETA: 24:13 - loss: 4.85 - ETA: 24:11 - loss: 4.85 - ETA: 24:09 - loss: 4.85 - ETA: 24:07 - loss: 4.85 - ETA: 24:06 - loss: 4.85 - ETA: 24:04 - loss: 4.85 - ETA: 24:02 - loss: 4.85 - ETA: 24:01 - loss: 4.85 - ETA: 23:59 - loss: 4.85 - ETA: 23:57 - loss: 4.85 - ETA: 23:56 - loss: 4.85 - ETA: 23:54 - loss: 4.85 - ETA: 23:52 - loss: 4.85 - ETA: 23:51 - loss: 4.85 - ETA: 23:49 - loss: 4.85 - ETA: 23:47 - loss: 4.84 - ETA: 23:45 - loss: 4.84 - ETA: 23:44 - loss: 4.84 - ETA: 23:42 - loss: 4.84 - ETA: 23:40 - loss: 4.84 - ETA: 23:38 - loss: 4.84 - ETA: 23:37 - loss: 4.84 - ETA: 23:35 - loss: 4.84 - ETA: 23:33 - loss: 4.84 - ETA: 23:32 - loss: 4.84 - ETA: 23:30 - loss: 4.84 - ETA: 23:28 - loss: 4.84 - ETA: 23:27 - loss: 4.84 - ETA: 23:25 - loss: 4.84 - ETA: 23:23 - loss: 4.84 - ETA: 23:22 - loss: 4.84 - ETA: 23:20 - loss: 4.84 - ETA: 23:18 - loss: 4.84 - ETA: 23:16 - loss: 4.84 - ETA: 23:15 - loss: 4.84 - ETA: 23:13 - loss: 4.84 - ETA: 23:11 - loss: 4.84 - ETA: 23:10 - loss: 4.84 - ETA: 23:08 - loss: 4.84 - ETA: 23:06 - loss: 4.84 - ETA: 23:05 - loss: 4.84 - ETA: 23:03 - loss: 4.84 - ETA: 23:01 - loss: 4.84 - ETA: 23:00 - loss: 4.84 - ETA: 22:58 - loss: 4.84 - ETA: 22:56 - loss: 4.84 - ETA: 22:54 - loss: 4.84 - ETA: 22:53 - loss: 4.84 - ETA: 22:51 - loss: 4.84 - ETA: 22:49 - loss: 4.84 - ETA: 22:47 - loss: 4.84 - ETA: 22:46 - loss: 4.84 - ETA: 22:44 - loss: 4.84 - ETA: 22:42 - loss: 4.85 - ETA: 22:41 - loss: 4.85 - ETA: 22:39 - loss: 4.85 - ETA: 22:37 - loss: 4.85 - ETA: 22:35 - loss: 4.85 - ETA: 22:34 - loss: 4.85 - ETA: 22:32 - loss: 4.85 - ETA: 22:30 - loss: 4.85 - ETA: 22:29 - loss: 4.85 - ETA: 22:27 - loss: 4.85 - ETA: 22:25 - loss: 4.85 - ETA: 22:24 - loss: 4.85 - ETA: 22:22 - loss: 4.85 - ETA: 22:20 - loss: 4.85 - ETA: 22:19 - loss: 4.85 - ETA: 22:17 - loss: 4.85 - ETA: 22:15 - loss: 4.85 - ETA: 22:13 - loss: 4.85 - ETA: 22:12 - loss: 4.85 - ETA: 22:10 - loss: 4.85 - ETA: 22:08 - loss: 4.85 - ETA: 22:07 - loss: 4.85 - ETA: 22:05 - loss: 4.85 - ETA: 22:03 - loss: 4.85 - ETA: 22:01 - loss: 4.85 - ETA: 22:00 - loss: 4.85 - ETA: 21:58 - loss: 4.85 - ETA: 21:56 - loss: 4.85 - ETA: 21:55 - loss: 4.85 - ETA: 21:53 - loss: 4.85 - ETA: 21:51 - loss: 4.85 - ETA: 21:49 - loss: 4.85 - ETA: 21:48 - loss: 4.85 - ETA: 21:46 - loss: 4.85 - ETA: 21:44 - loss: 4.85 - ETA: 21:42 - loss: 4.85 - ETA: 21:41 - loss: 4.85 - ETA: 21:39 - loss: 4.85 - ETA: 21:37 - loss: 4.85 - ETA: 21:35 - loss: 4.85 - ETA: 21:34 - loss: 4.85 - ETA: 21:32 - loss: 4.85 - ETA: 21:30 - loss: 4.85 - ETA: 21:29 - loss: 4.85 - ETA: 21:27 - loss: 4.85 - ETA: 21:25 - loss: 4.85 - ETA: 21:23 - loss: 4.85 - ETA: 21:22 - loss: 4.84 - ETA: 21:20 - loss: 4.84 - ETA: 21:18 - loss: 4.84 - ETA: 21:16 - loss: 4.84 - ETA: 21:15 - loss: 4.84 - ETA: 21:13 - loss: 4.84 - ETA: 21:11 - loss: 4.84 - ETA: 21:10 - loss: 4.84 - ETA: 21:08 - loss: 4.84 - ETA: 21:06 - loss: 4.84 - ETA: 21:05 - loss: 4.84 - ETA: 21:03 - loss: 4.84 - ETA: 21:01 - loss: 4.84 - ETA: 21:00 - loss: 4.84 - ETA: 20:58 - loss: 4.84 - ETA: 20:56 - loss: 4.84 - ETA: 20:55 - loss: 4.84 - ETA: 20:53 - loss: 4.84 - ETA: 20:51 - loss: 4.84 - ETA: 20:49 - loss: 4.84 - ETA: 20:48 - loss: 4.84 - ETA: 20:46 - loss: 4.84 - ETA: 20:44 - loss: 4.84 - ETA: 20:43 - loss: 4.84 - ETA: 20:41 - loss: 4.84 - ETA: 20:39 - loss: 4.84 - ETA: 20:37 - loss: 4.84 - ETA: 20:36 - loss: 4.84 - ETA: 20:34 - loss: 4.84 - ETA: 20:32 - loss: 4.84 - ETA: 20:31 - loss: 4.84 - ETA: 20:29 - loss: 4.84 - ETA: 20:27 - loss: 4.84 - ETA: 20:25 - loss: 4.84 - ETA: 20:24 - loss: 4.84 - ETA: 20:22 - loss: 4.83 - ETA: 20:20 - loss: 4.83 - ETA: 20:19 - loss: 4.83 - ETA: 20:17 - loss: 4.83 - ETA: 20:15 - loss: 4.83 - ETA: 20:13 - loss: 4.83 - ETA: 20:12 - loss: 4.83 - ETA: 20:10 - loss: 4.83 - ETA: 20:08 - loss: 4.83 - ETA: 20:06 - loss: 4.83 - ETA: 20:05 - loss: 4.83 - ETA: 20:03 - loss: 4.83 - ETA: 20:01 - loss: 4.83 - ETA: 20:00 - loss: 4.83 - ETA: 19:58 - loss: 4.83 - ETA: 19:56 - loss: 4.83 - ETA: 19:55 - loss: 4.83 - ETA: 19:53 - loss: 4.83 - ETA: 19:51 - loss: 4.83 - ETA: 19:49 - loss: 4.83 - ETA: 19:48 - loss: 4.83 - ETA: 19:46 - loss: 4.83 - ETA: 19:44 - loss: 4.83 - ETA: 19:43 - loss: 4.83 - ETA: 19:41 - loss: 4.83 - ETA: 19:39 - loss: 4.83 - ETA: 19:38 - loss: 4.83 - ETA: 19:36 - loss: 4.83 - ETA: 19:34 - loss: 4.83 - ETA: 19:33 - loss: 4.83 - ETA: 19:31 - loss: 4.83 - ETA: 19:29 - loss: 4.83 - ETA: 19:27 - loss: 4.83 - ETA: 19:26 - loss: 4.83 - ETA: 19:24 - loss: 4.83 - ETA: 19:22 - loss: 4.83 - ETA: 19:20 - loss: 4.83 - ETA: 19:19 - loss: 4.83 - ETA: 19:17 - loss: 4.83 - ETA: 19:15 - loss: 4.83 - ETA: 19:13 - loss: 4.83 - ETA: 19:12 - loss: 4.83 - ETA: 19:10 - loss: 4.83 - ETA: 19:08 - loss: 4.83 - ETA: 19:07 - loss: 4.83 - ETA: 19:05 - loss: 4.83 - ETA: 19:03 - loss: 4.83 - ETA: 19:01 - loss: 4.83 - ETA: 19:00 - loss: 4.83 - ETA: 18:58 - loss: 4.83 - ETA: 18:56 - loss: 4.83 - ETA: 18:55 - loss: 4.83 - ETA: 18:53 - loss: 4.83 - ETA: 18:51 - loss: 4.83 - ETA: 18:49 - loss: 4.83 - ETA: 18:48 - loss: 4.83 - ETA: 18:46 - loss: 4.83 - ETA: 18:44 - loss: 4.83 - ETA: 18:43 - loss: 4.83 - ETA: 18:41 - loss: 4.83 - ETA: 18:39 - loss: 4.83 - ETA: 18:38 - loss: 4.83 - ETA: 18:36 - loss: 4.83 - ETA: 18:34 - loss: 4.83 - ETA: 18:32 - loss: 4.83 - ETA: 18:31 - loss: 4.83 - ETA: 18:29 - loss: 4.83 - ETA: 18:27 - loss: 4.83 - ETA: 18:26 - loss: 4.83 - ETA: 18:24 - loss: 4.83 - ETA: 18:22 - loss: 4.83 - ETA: 18:20 - loss: 4.83 - ETA: 18:19 - loss: 4.83 - ETA: 18:17 - loss: 4.83 - ETA: 18:15 - loss: 4.83 - ETA: 18:14 - loss: 4.83 - ETA: 18:12 - loss: 4.83 - ETA: 18:10 - loss: 4.83 - ETA: 18:08 - loss: 4.83 - ETA: 18:07 - loss: 4.83 - ETA: 18:05 - loss: 4.82 - ETA: 18:03 - loss: 4.82 - ETA: 18:01 - loss: 4.82 - ETA: 18:00 - loss: 4.82 - ETA: 17:58 - loss: 4.82 - ETA: 17:56 - loss: 4.82 - ETA: 17:55 - loss: 4.82 - ETA: 17:53 - loss: 4.82 - ETA: 17:51 - loss: 4.82 - ETA: 17:49 - loss: 4.82 - ETA: 17:48 - loss: 4.82 - ETA: 17:46 - loss: 4.82 - ETA: 17:44 - loss: 4.82 - ETA: 17:43 - loss: 4.82 - ETA: 17:41 - loss: 4.82 - ETA: 17:39 - loss: 4.82 - ETA: 17:37 - loss: 4.82 - ETA: 17:36 - loss: 4.82 - ETA: 17:34 - loss: 4.82 - ETA: 17:32 - loss: 4.82 - ETA: 17:30 - loss: 4.82 - ETA: 17:29 - loss: 4.82 - ETA: 17:27 - loss: 4.82 - ETA: 17:25 - loss: 4.82 - ETA: 17:24 - loss: 4.82 - ETA: 17:22 - loss: 4.82 - ETA: 17:20 - loss: 4.82 - ETA: 17:18 - loss: 4.82 - ETA: 17:17 - loss: 4.82 - ETA: 17:15 - loss: 4.82 - ETA: 17:13 - loss: 4.82 - ETA: 17:11 - loss: 4.82 - ETA: 17:10 - loss: 4.82 - ETA: 17:08 - loss: 4.82 - ETA: 17:06 - loss: 4.82 - ETA: 17:05 - loss: 4.82 - ETA: 17:03 - loss: 4.8250"
     ]
    },
    {
     "name": "stdout",
     "output_type": "stream",
     "text": [
      "60160/77735 [======================>.......] - ETA: 17:01 - loss: 4.82 - ETA: 16:59 - loss: 4.82 - ETA: 16:58 - loss: 4.82 - ETA: 16:56 - loss: 4.82 - ETA: 16:54 - loss: 4.82 - ETA: 16:53 - loss: 4.82 - ETA: 16:51 - loss: 4.82 - ETA: 16:49 - loss: 4.82 - ETA: 16:48 - loss: 4.82 - ETA: 16:46 - loss: 4.82 - ETA: 16:44 - loss: 4.82 - ETA: 16:42 - loss: 4.82 - ETA: 16:41 - loss: 4.82 - ETA: 16:39 - loss: 4.82 - ETA: 16:37 - loss: 4.82 - ETA: 16:35 - loss: 4.82 - ETA: 16:34 - loss: 4.82 - ETA: 16:32 - loss: 4.82 - ETA: 16:30 - loss: 4.82 - ETA: 16:28 - loss: 4.82 - ETA: 16:27 - loss: 4.82 - ETA: 16:25 - loss: 4.82 - ETA: 16:23 - loss: 4.82 - ETA: 16:21 - loss: 4.82 - ETA: 16:20 - loss: 4.82 - ETA: 16:18 - loss: 4.82 - ETA: 16:16 - loss: 4.82 - ETA: 16:14 - loss: 4.82 - ETA: 16:13 - loss: 4.82 - ETA: 16:11 - loss: 4.82 - ETA: 16:09 - loss: 4.82 - ETA: 16:08 - loss: 4.82 - ETA: 16:06 - loss: 4.82 - ETA: 16:04 - loss: 4.82 - ETA: 16:02 - loss: 4.82 - ETA: 16:01 - loss: 4.82 - ETA: 15:59 - loss: 4.82 - ETA: 15:57 - loss: 4.82 - ETA: 15:55 - loss: 4.82 - ETA: 15:54 - loss: 4.81 - ETA: 15:52 - loss: 4.81 - ETA: 15:50 - loss: 4.81 - ETA: 15:49 - loss: 4.81 - ETA: 15:47 - loss: 4.81 - ETA: 15:45 - loss: 4.81 - ETA: 15:43 - loss: 4.81 - ETA: 15:42 - loss: 4.81 - ETA: 15:40 - loss: 4.81 - ETA: 15:38 - loss: 4.81 - ETA: 15:36 - loss: 4.81 - ETA: 15:35 - loss: 4.81 - ETA: 15:33 - loss: 4.81 - ETA: 15:31 - loss: 4.81 - ETA: 15:29 - loss: 4.81 - ETA: 15:28 - loss: 4.81 - ETA: 15:26 - loss: 4.81 - ETA: 15:24 - loss: 4.81 - ETA: 15:23 - loss: 4.81 - ETA: 15:21 - loss: 4.81 - ETA: 15:19 - loss: 4.81 - ETA: 15:17 - loss: 4.81 - ETA: 15:16 - loss: 4.81 - ETA: 15:14 - loss: 4.81 - ETA: 15:12 - loss: 4.81 - ETA: 15:10 - loss: 4.81 - ETA: 15:09 - loss: 4.81 - ETA: 15:07 - loss: 4.81 - ETA: 15:05 - loss: 4.81 - ETA: 15:03 - loss: 4.81 - ETA: 15:02 - loss: 4.81 - ETA: 15:00 - loss: 4.81 - ETA: 14:58 - loss: 4.81 - ETA: 14:57 - loss: 4.81 - ETA: 14:55 - loss: 4.81 - ETA: 14:53 - loss: 4.81 - ETA: 14:51 - loss: 4.81 - ETA: 14:50 - loss: 4.81 - ETA: 14:48 - loss: 4.81 - ETA: 14:46 - loss: 4.81 - ETA: 14:44 - loss: 4.81 - ETA: 14:43 - loss: 4.81 - ETA: 14:41 - loss: 4.81 - ETA: 14:39 - loss: 4.81 - ETA: 14:37 - loss: 4.81 - ETA: 14:36 - loss: 4.81 - ETA: 14:34 - loss: 4.81 - ETA: 14:32 - loss: 4.81 - ETA: 14:30 - loss: 4.81 - ETA: 14:29 - loss: 4.81 - ETA: 14:27 - loss: 4.81 - ETA: 14:25 - loss: 4.81 - ETA: 14:23 - loss: 4.81 - ETA: 14:22 - loss: 4.81 - ETA: 14:20 - loss: 4.81 - ETA: 14:18 - loss: 4.81 - ETA: 14:17 - loss: 4.81 - ETA: 14:15 - loss: 4.81 - ETA: 14:13 - loss: 4.81 - ETA: 14:11 - loss: 4.81 - ETA: 14:10 - loss: 4.81 - ETA: 14:08 - loss: 4.81 - ETA: 14:06 - loss: 4.81 - ETA: 14:04 - loss: 4.81 - ETA: 14:03 - loss: 4.81 - ETA: 14:01 - loss: 4.81 - ETA: 13:59 - loss: 4.81 - ETA: 13:57 - loss: 4.81 - ETA: 13:56 - loss: 4.81 - ETA: 13:54 - loss: 4.81 - ETA: 13:52 - loss: 4.81 - ETA: 13:50 - loss: 4.81 - ETA: 13:49 - loss: 4.81 - ETA: 13:47 - loss: 4.81 - ETA: 13:45 - loss: 4.81 - ETA: 13:43 - loss: 4.81 - ETA: 13:42 - loss: 4.81 - ETA: 13:40 - loss: 4.81 - ETA: 13:38 - loss: 4.81 - ETA: 13:36 - loss: 4.81 - ETA: 13:35 - loss: 4.81 - ETA: 13:33 - loss: 4.81 - ETA: 13:31 - loss: 4.81 - ETA: 13:29 - loss: 4.81 - ETA: 13:28 - loss: 4.81 - ETA: 13:26 - loss: 4.81 - ETA: 13:24 - loss: 4.81 - ETA: 13:22 - loss: 4.81 - ETA: 13:21 - loss: 4.81 - ETA: 13:19 - loss: 4.81 - ETA: 13:17 - loss: 4.81 - ETA: 13:16 - loss: 4.81 - ETA: 13:14 - loss: 4.81 - ETA: 13:12 - loss: 4.81 - ETA: 13:10 - loss: 4.81 - ETA: 13:09 - loss: 4.81 - ETA: 13:07 - loss: 4.81 - ETA: 13:05 - loss: 4.81 - ETA: 13:03 - loss: 4.81 - ETA: 13:02 - loss: 4.80 - ETA: 13:00 - loss: 4.80 - ETA: 12:58 - loss: 4.80 - ETA: 12:57 - loss: 4.80 - ETA: 12:55 - loss: 4.80 - ETA: 12:53 - loss: 4.80 - ETA: 12:51 - loss: 4.80 - ETA: 12:50 - loss: 4.80 - ETA: 12:48 - loss: 4.80 - ETA: 12:46 - loss: 4.80 - ETA: 12:44 - loss: 4.80 - ETA: 12:43 - loss: 4.80 - ETA: 12:41 - loss: 4.80 - ETA: 12:39 - loss: 4.80 - ETA: 12:37 - loss: 4.80 - ETA: 12:36 - loss: 4.80 - ETA: 12:34 - loss: 4.80 - ETA: 12:32 - loss: 4.80 - ETA: 12:31 - loss: 4.80 - ETA: 12:29 - loss: 4.80 - ETA: 12:27 - loss: 4.80 - ETA: 12:25 - loss: 4.80 - ETA: 12:24 - loss: 4.80 - ETA: 12:22 - loss: 4.80 - ETA: 12:20 - loss: 4.80 - ETA: 12:18 - loss: 4.80 - ETA: 12:17 - loss: 4.80 - ETA: 12:15 - loss: 4.80 - ETA: 12:13 - loss: 4.80 - ETA: 12:12 - loss: 4.80 - ETA: 12:10 - loss: 4.80 - ETA: 12:08 - loss: 4.80 - ETA: 12:06 - loss: 4.80 - ETA: 12:05 - loss: 4.80 - ETA: 12:03 - loss: 4.80 - ETA: 12:01 - loss: 4.80 - ETA: 11:59 - loss: 4.80 - ETA: 11:58 - loss: 4.80 - ETA: 11:56 - loss: 4.80 - ETA: 11:54 - loss: 4.80 - ETA: 11:52 - loss: 4.80 - ETA: 11:51 - loss: 4.80 - ETA: 11:49 - loss: 4.80 - ETA: 11:47 - loss: 4.80 - ETA: 11:45 - loss: 4.80 - ETA: 11:44 - loss: 4.80 - ETA: 11:42 - loss: 4.80 - ETA: 11:40 - loss: 4.80 - ETA: 11:39 - loss: 4.80 - ETA: 11:37 - loss: 4.80 - ETA: 11:35 - loss: 4.80 - ETA: 11:33 - loss: 4.80 - ETA: 11:32 - loss: 4.80 - ETA: 11:30 - loss: 4.80 - ETA: 11:28 - loss: 4.80 - ETA: 11:26 - loss: 4.80 - ETA: 11:25 - loss: 4.80 - ETA: 11:23 - loss: 4.80 - ETA: 11:21 - loss: 4.80 - ETA: 11:20 - loss: 4.80 - ETA: 11:18 - loss: 4.80 - ETA: 11:16 - loss: 4.80 - ETA: 11:14 - loss: 4.80 - ETA: 11:13 - loss: 4.80 - ETA: 11:11 - loss: 4.80 - ETA: 11:09 - loss: 4.80 - ETA: 11:07 - loss: 4.80 - ETA: 11:06 - loss: 4.80 - ETA: 11:04 - loss: 4.80 - ETA: 11:02 - loss: 4.80 - ETA: 11:00 - loss: 4.80 - ETA: 10:59 - loss: 4.80 - ETA: 10:57 - loss: 4.80 - ETA: 10:55 - loss: 4.80 - ETA: 10:53 - loss: 4.80 - ETA: 10:52 - loss: 4.80 - ETA: 10:50 - loss: 4.80 - ETA: 10:48 - loss: 4.80 - ETA: 10:46 - loss: 4.80 - ETA: 10:45 - loss: 4.80 - ETA: 10:43 - loss: 4.80 - ETA: 10:41 - loss: 4.80 - ETA: 10:39 - loss: 4.80 - ETA: 10:38 - loss: 4.80 - ETA: 10:36 - loss: 4.80 - ETA: 10:34 - loss: 4.80 - ETA: 10:32 - loss: 4.80 - ETA: 10:31 - loss: 4.80 - ETA: 10:29 - loss: 4.80 - ETA: 10:27 - loss: 4.80 - ETA: 10:26 - loss: 4.80 - ETA: 10:24 - loss: 4.80 - ETA: 10:22 - loss: 4.80 - ETA: 10:20 - loss: 4.80 - ETA: 10:19 - loss: 4.80 - ETA: 10:17 - loss: 4.80 - ETA: 10:15 - loss: 4.80 - ETA: 10:13 - loss: 4.80 - ETA: 10:12 - loss: 4.80 - ETA: 10:10 - loss: 4.80 - ETA: 10:08 - loss: 4.80 - ETA: 10:06 - loss: 4.80 - ETA: 10:05 - loss: 4.80 - ETA: 10:03 - loss: 4.80 - ETA: 10:01 - loss: 4.80 - ETA: 9:59 - loss: 4.8008 - ETA: 9:58 - loss: 4.800 - ETA: 9:56 - loss: 4.800 - ETA: 9:54 - loss: 4.800 - ETA: 9:52 - loss: 4.800 - ETA: 9:51 - loss: 4.800 - ETA: 9:49 - loss: 4.800 - ETA: 9:47 - loss: 4.800 - ETA: 9:45 - loss: 4.800 - ETA: 9:44 - loss: 4.800 - ETA: 9:42 - loss: 4.800 - ETA: 9:40 - loss: 4.800 - ETA: 9:39 - loss: 4.800 - ETA: 9:37 - loss: 4.800 - ETA: 9:35 - loss: 4.800 - ETA: 9:33 - loss: 4.799 - ETA: 9:32 - loss: 4.799 - ETA: 9:30 - loss: 4.799 - ETA: 9:28 - loss: 4.799 - ETA: 9:26 - loss: 4.800 - ETA: 9:25 - loss: 4.799 - ETA: 9:23 - loss: 4.800 - ETA: 9:21 - loss: 4.800 - ETA: 9:19 - loss: 4.799 - ETA: 9:18 - loss: 4.799 - ETA: 9:16 - loss: 4.799 - ETA: 9:14 - loss: 4.799 - ETA: 9:12 - loss: 4.799 - ETA: 9:11 - loss: 4.799 - ETA: 9:09 - loss: 4.799 - ETA: 9:07 - loss: 4.799 - ETA: 9:05 - loss: 4.799 - ETA: 9:04 - loss: 4.799 - ETA: 9:02 - loss: 4.799 - ETA: 9:00 - loss: 4.799 - ETA: 8:58 - loss: 4.799 - ETA: 8:57 - loss: 4.799 - ETA: 8:55 - loss: 4.799 - ETA: 8:53 - loss: 4.799 - ETA: 8:52 - loss: 4.799 - ETA: 8:50 - loss: 4.799 - ETA: 8:48 - loss: 4.799 - ETA: 8:46 - loss: 4.799 - ETA: 8:45 - loss: 4.799 - ETA: 8:43 - loss: 4.799 - ETA: 8:41 - loss: 4.799 - ETA: 8:39 - loss: 4.799 - ETA: 8:38 - loss: 4.799 - ETA: 8:36 - loss: 4.798 - ETA: 8:34 - loss: 4.798 - ETA: 8:32 - loss: 4.798 - ETA: 8:31 - loss: 4.798 - ETA: 8:29 - loss: 4.798 - ETA: 8:27 - loss: 4.798 - ETA: 8:25 - loss: 4.798 - ETA: 8:24 - loss: 4.798 - ETA: 8:22 - loss: 4.797 - ETA: 8:20 - loss: 4.798 - ETA: 8:18 - loss: 4.797 - ETA: 8:17 - loss: 4.797 - ETA: 8:15 - loss: 4.797 - ETA: 8:13 - loss: 4.797 - ETA: 8:11 - loss: 4.797 - ETA: 8:10 - loss: 4.797 - ETA: 8:08 - loss: 4.797 - ETA: 8:06 - loss: 4.797 - ETA: 8:05 - loss: 4.797 - ETA: 8:03 - loss: 4.797 - ETA: 8:01 - loss: 4.796 - ETA: 7:59 - loss: 4.797 - ETA: 7:58 - loss: 4.7968"
     ]
    },
    {
     "name": "stdout",
     "output_type": "stream",
     "text": [
      "77735/77735 [==============================] - ETA: 7:56 - loss: 4.796 - ETA: 7:54 - loss: 4.796 - ETA: 7:52 - loss: 4.796 - ETA: 7:51 - loss: 4.796 - ETA: 7:49 - loss: 4.796 - ETA: 7:47 - loss: 4.796 - ETA: 7:45 - loss: 4.796 - ETA: 7:44 - loss: 4.796 - ETA: 7:42 - loss: 4.796 - ETA: 7:40 - loss: 4.796 - ETA: 7:38 - loss: 4.796 - ETA: 7:37 - loss: 4.796 - ETA: 7:35 - loss: 4.796 - ETA: 7:33 - loss: 4.796 - ETA: 7:32 - loss: 4.796 - ETA: 7:30 - loss: 4.796 - ETA: 7:28 - loss: 4.796 - ETA: 7:26 - loss: 4.796 - ETA: 7:25 - loss: 4.796 - ETA: 7:23 - loss: 4.795 - ETA: 7:21 - loss: 4.795 - ETA: 7:19 - loss: 4.795 - ETA: 7:18 - loss: 4.795 - ETA: 7:16 - loss: 4.795 - ETA: 7:14 - loss: 4.795 - ETA: 7:12 - loss: 4.795 - ETA: 7:11 - loss: 4.795 - ETA: 7:09 - loss: 4.795 - ETA: 7:07 - loss: 4.795 - ETA: 7:05 - loss: 4.795 - ETA: 7:04 - loss: 4.795 - ETA: 7:02 - loss: 4.795 - ETA: 7:00 - loss: 4.795 - ETA: 6:58 - loss: 4.795 - ETA: 6:57 - loss: 4.795 - ETA: 6:55 - loss: 4.795 - ETA: 6:53 - loss: 4.795 - ETA: 6:51 - loss: 4.795 - ETA: 6:50 - loss: 4.795 - ETA: 6:48 - loss: 4.795 - ETA: 6:46 - loss: 4.795 - ETA: 6:45 - loss: 4.795 - ETA: 6:43 - loss: 4.795 - ETA: 6:41 - loss: 4.795 - ETA: 6:39 - loss: 4.795 - ETA: 6:38 - loss: 4.795 - ETA: 6:36 - loss: 4.794 - ETA: 6:34 - loss: 4.794 - ETA: 6:32 - loss: 4.794 - ETA: 6:31 - loss: 4.794 - ETA: 6:29 - loss: 4.794 - ETA: 6:27 - loss: 4.794 - ETA: 6:25 - loss: 4.794 - ETA: 6:24 - loss: 4.794 - ETA: 6:22 - loss: 4.794 - ETA: 6:20 - loss: 4.794 - ETA: 6:18 - loss: 4.794 - ETA: 6:17 - loss: 4.794 - ETA: 6:15 - loss: 4.794 - ETA: 6:13 - loss: 4.794 - ETA: 6:11 - loss: 4.794 - ETA: 6:10 - loss: 4.794 - ETA: 6:08 - loss: 4.793 - ETA: 6:06 - loss: 4.794 - ETA: 6:05 - loss: 4.793 - ETA: 6:03 - loss: 4.793 - ETA: 6:01 - loss: 4.793 - ETA: 5:59 - loss: 4.793 - ETA: 5:58 - loss: 4.793 - ETA: 5:56 - loss: 4.793 - ETA: 5:54 - loss: 4.793 - ETA: 5:52 - loss: 4.793 - ETA: 5:51 - loss: 4.793 - ETA: 5:49 - loss: 4.793 - ETA: 5:47 - loss: 4.793 - ETA: 5:45 - loss: 4.793 - ETA: 5:44 - loss: 4.793 - ETA: 5:42 - loss: 4.793 - ETA: 5:40 - loss: 4.793 - ETA: 5:38 - loss: 4.793 - ETA: 5:37 - loss: 4.793 - ETA: 5:35 - loss: 4.793 - ETA: 5:33 - loss: 4.792 - ETA: 5:31 - loss: 4.792 - ETA: 5:30 - loss: 4.793 - ETA: 5:28 - loss: 4.793 - ETA: 5:26 - loss: 4.792 - ETA: 5:24 - loss: 4.792 - ETA: 5:23 - loss: 4.792 - ETA: 5:21 - loss: 4.792 - ETA: 5:19 - loss: 4.793 - ETA: 5:18 - loss: 4.792 - ETA: 5:16 - loss: 4.792 - ETA: 5:14 - loss: 4.792 - ETA: 5:12 - loss: 4.792 - ETA: 5:11 - loss: 4.792 - ETA: 5:09 - loss: 4.792 - ETA: 5:07 - loss: 4.792 - ETA: 5:05 - loss: 4.792 - ETA: 5:04 - loss: 4.792 - ETA: 5:02 - loss: 4.792 - ETA: 5:00 - loss: 4.792 - ETA: 4:58 - loss: 4.792 - ETA: 4:57 - loss: 4.792 - ETA: 4:55 - loss: 4.792 - ETA: 4:53 - loss: 4.792 - ETA: 4:51 - loss: 4.792 - ETA: 4:50 - loss: 4.792 - ETA: 4:48 - loss: 4.792 - ETA: 4:46 - loss: 4.792 - ETA: 4:44 - loss: 4.791 - ETA: 4:43 - loss: 4.791 - ETA: 4:41 - loss: 4.791 - ETA: 4:39 - loss: 4.791 - ETA: 4:37 - loss: 4.791 - ETA: 4:36 - loss: 4.791 - ETA: 4:34 - loss: 4.791 - ETA: 4:32 - loss: 4.791 - ETA: 4:30 - loss: 4.791 - ETA: 4:29 - loss: 4.790 - ETA: 4:27 - loss: 4.790 - ETA: 4:25 - loss: 4.790 - ETA: 4:24 - loss: 4.790 - ETA: 4:22 - loss: 4.790 - ETA: 4:20 - loss: 4.790 - ETA: 4:18 - loss: 4.790 - ETA: 4:17 - loss: 4.790 - ETA: 4:15 - loss: 4.790 - ETA: 4:13 - loss: 4.790 - ETA: 4:11 - loss: 4.790 - ETA: 4:10 - loss: 4.790 - ETA: 4:08 - loss: 4.790 - ETA: 4:06 - loss: 4.790 - ETA: 4:04 - loss: 4.790 - ETA: 4:03 - loss: 4.790 - ETA: 4:01 - loss: 4.790 - ETA: 3:59 - loss: 4.790 - ETA: 3:57 - loss: 4.790 - ETA: 3:56 - loss: 4.790 - ETA: 3:54 - loss: 4.790 - ETA: 3:52 - loss: 4.790 - ETA: 3:50 - loss: 4.790 - ETA: 3:49 - loss: 4.790 - ETA: 3:47 - loss: 4.790 - ETA: 3:45 - loss: 4.790 - ETA: 3:44 - loss: 4.790 - ETA: 3:42 - loss: 4.790 - ETA: 3:40 - loss: 4.790 - ETA: 3:38 - loss: 4.790 - ETA: 3:37 - loss: 4.789 - ETA: 3:35 - loss: 4.790 - ETA: 3:33 - loss: 4.790 - ETA: 3:31 - loss: 4.790 - ETA: 3:30 - loss: 4.790 - ETA: 3:28 - loss: 4.790 - ETA: 3:26 - loss: 4.790 - ETA: 3:24 - loss: 4.790 - ETA: 3:23 - loss: 4.790 - ETA: 3:21 - loss: 4.790 - ETA: 3:19 - loss: 4.789 - ETA: 3:17 - loss: 4.789 - ETA: 3:16 - loss: 4.789 - ETA: 3:14 - loss: 4.789 - ETA: 3:12 - loss: 4.789 - ETA: 3:10 - loss: 4.789 - ETA: 3:09 - loss: 4.790 - ETA: 3:07 - loss: 4.789 - ETA: 3:05 - loss: 4.789 - ETA: 3:03 - loss: 4.789 - ETA: 3:02 - loss: 4.789 - ETA: 3:00 - loss: 4.789 - ETA: 2:58 - loss: 4.789 - ETA: 2:57 - loss: 4.789 - ETA: 2:55 - loss: 4.789 - ETA: 2:53 - loss: 4.789 - ETA: 2:51 - loss: 4.789 - ETA: 2:50 - loss: 4.789 - ETA: 2:48 - loss: 4.789 - ETA: 2:46 - loss: 4.789 - ETA: 2:44 - loss: 4.788 - ETA: 2:43 - loss: 4.788 - ETA: 2:41 - loss: 4.788 - ETA: 2:39 - loss: 4.789 - ETA: 2:37 - loss: 4.788 - ETA: 2:36 - loss: 4.789 - ETA: 2:34 - loss: 4.788 - ETA: 2:32 - loss: 4.789 - ETA: 2:30 - loss: 4.788 - ETA: 2:29 - loss: 4.788 - ETA: 2:27 - loss: 4.788 - ETA: 2:25 - loss: 4.788 - ETA: 2:23 - loss: 4.788 - ETA: 2:22 - loss: 4.788 - ETA: 2:20 - loss: 4.788 - ETA: 2:18 - loss: 4.788 - ETA: 2:16 - loss: 4.788 - ETA: 2:15 - loss: 4.788 - ETA: 2:13 - loss: 4.788 - ETA: 2:11 - loss: 4.788 - ETA: 2:09 - loss: 4.788 - ETA: 2:08 - loss: 4.788 - ETA: 2:06 - loss: 4.788 - ETA: 2:04 - loss: 4.788 - ETA: 2:02 - loss: 4.788 - ETA: 2:01 - loss: 4.788 - ETA: 1:59 - loss: 4.788 - ETA: 1:57 - loss: 4.787 - ETA: 1:56 - loss: 4.787 - ETA: 1:54 - loss: 4.787 - ETA: 1:52 - loss: 4.787 - ETA: 1:50 - loss: 4.788 - ETA: 1:49 - loss: 4.788 - ETA: 1:47 - loss: 4.787 - ETA: 1:45 - loss: 4.787 - ETA: 1:43 - loss: 4.787 - ETA: 1:42 - loss: 4.787 - ETA: 1:40 - loss: 4.787 - ETA: 1:38 - loss: 4.787 - ETA: 1:36 - loss: 4.787 - ETA: 1:35 - loss: 4.787 - ETA: 1:33 - loss: 4.787 - ETA: 1:31 - loss: 4.787 - ETA: 1:29 - loss: 4.787 - ETA: 1:28 - loss: 4.787 - ETA: 1:26 - loss: 4.787 - ETA: 1:24 - loss: 4.787 - ETA: 1:22 - loss: 4.787 - ETA: 1:21 - loss: 4.787 - ETA: 1:19 - loss: 4.787 - ETA: 1:17 - loss: 4.787 - ETA: 1:15 - loss: 4.787 - ETA: 1:14 - loss: 4.787 - ETA: 1:12 - loss: 4.787 - ETA: 1:10 - loss: 4.787 - ETA: 1:09 - loss: 4.787 - ETA: 1:07 - loss: 4.787 - ETA: 1:05 - loss: 4.787 - ETA: 1:03 - loss: 4.787 - ETA: 1:02 - loss: 4.787 - ETA: 1:00 - loss: 4.787 - ETA: 58s - loss: 4.787 - ETA: 56s - loss: 4.78 - ETA: 55s - loss: 4.78 - ETA: 53s - loss: 4.78 - ETA: 51s - loss: 4.78 - ETA: 49s - loss: 4.78 - ETA: 48s - loss: 4.78 - ETA: 46s - loss: 4.78 - ETA: 44s - loss: 4.78 - ETA: 42s - loss: 4.78 - ETA: 41s - loss: 4.78 - ETA: 39s - loss: 4.78 - ETA: 37s - loss: 4.78 - ETA: 35s - loss: 4.78 - ETA: 34s - loss: 4.78 - ETA: 32s - loss: 4.78 - ETA: 30s - loss: 4.78 - ETA: 28s - loss: 4.78 - ETA: 27s - loss: 4.78 - ETA: 25s - loss: 4.78 - ETA: 23s - loss: 4.78 - ETA: 21s - loss: 4.78 - ETA: 20s - loss: 4.78 - ETA: 18s - loss: 4.78 - ETA: 16s - loss: 4.78 - ETA: 15s - loss: 4.78 - ETA: 13s - loss: 4.78 - ETA: 11s - loss: 4.78 - ETA: 9s - loss: 4.7854 - ETA: 8s - loss: 4.785 - ETA: 6s - loss: 4.785 - ETA: 4s - loss: 4.785 - ETA: 2s - loss: 4.785 - ETA: 1s - loss: 4.785 - 2117s 27ms/sample - loss: 4.7851\n",
      "Epoch 2/300\n",
      "  128/77735 [..............................] - ETA: 34:05 - loss: 4.70 - ETA: 34:15 - loss: 4.7485"
     ]
    }
   ],
   "source": [
    "filepath = \"weights\\weights-improvement-{epoch:02d}-{loss:.4f}-bigger.hdf5\"    \n",
    "checkpoint = ModelCheckpoint(\n",
    "    filepath, monitor='loss', \n",
    "    verbose=0,        \n",
    "    save_best_only=True,        \n",
    "    mode='min'\n",
    ") \n",
    "tensorboard = TensorBoard(log_dir=\"logs\\{}\".format(time()), profile_batch=0, update_freq='epoch')\n",
    "callbacks_list = [checkpoint, tensorboard]     \n",
    "model.fit(network_input, network_output, epochs=300, batch_size=64, callbacks=callbacks_list)"
   ]
  },
  {
   "cell_type": "markdown",
   "metadata": {},
   "source": [
    "## Generation"
   ]
  },
  {
   "cell_type": "code",
   "execution_count": 119,
   "metadata": {},
   "outputs": [
    {
     "data": {
      "application/vnd.jupyter.widget-view+json": {
       "model_id": "317f9728e8ef4e39b8f0bb1906610380",
       "version_major": 2,
       "version_minor": 0
      },
      "text/plain": [
       "HBox(children=(IntProgress(value=0, max=1000), HTML(value='')))"
      ]
     },
     "metadata": {},
     "output_type": "display_data"
    },
    {
     "name": "stdout",
     "output_type": "stream",
     "text": [
      "\n"
     ]
    }
   ],
   "source": [
    "start = np.random.randint(0, len(network_input)-1)\n",
    "int_to_note = dict((number, note) for number, note in enumerate(pitchnames))\n",
    "pattern = non_normalized_input[start]\n",
    "prediction_output = []\n",
    "# generate 500 notes\n",
    "for note_index in tqdm(range(1000)):\n",
    "    prediction_input = np.reshape(pattern,(1,pattern.shape[0],1))\n",
    "    prediction_input = prediction_input / float(len(pitchnames))\n",
    "    prediction = model.predict(prediction_input, verbose=0)\n",
    "    index = np.argmax(prediction)\n",
    "    result = int_to_note[index]\n",
    "    prediction_output.append(result)\n",
    "    pattern = np.append(pattern,[index])\n",
    "    pattern = pattern[1:len(pattern)]"
   ]
  },
  {
   "cell_type": "code",
   "execution_count": 120,
   "metadata": {},
   "outputs": [],
   "source": [
    "offset = 0\n",
    "output_notes = []\n",
    "# create note and chord objects based on the values generated by the model\n",
    "for pattern in prediction_output:\n",
    "    # pattern is a chord\n",
    "    if ('.' in pattern) or pattern.isdigit():\n",
    "        notes_in_chord = pattern.split('.')\n",
    "        notes = []\n",
    "        for current_note in notes_in_chord:\n",
    "            new_note = note.Note(int(current_note))\n",
    "            new_note.storedInstrument = instrument.Piano()\n",
    "            notes.append(new_note)\n",
    "        new_chord = chord.Chord(notes)\n",
    "        new_chord.offset = offset\n",
    "        output_notes.append(new_chord)\n",
    "    # pattern is a note\n",
    "    else:\n",
    "        new_note = note.Note(pattern)\n",
    "        new_note.offset = offset\n",
    "        new_note.storedInstrument = instrument.Piano()\n",
    "        output_notes.append(new_note)\n",
    "    # increase offset each iteration so that notes do not stack\n",
    "    offset += 0.5"
   ]
  },
  {
   "cell_type": "code",
   "execution_count": 121,
   "metadata": {},
   "outputs": [
    {
     "data": {
      "text/plain": [
       "'anime_music_1589394248.6651573.mid'"
      ]
     },
     "execution_count": 121,
     "metadata": {},
     "output_type": "execute_result"
    }
   ],
   "source": [
    "midi_stream = stream.Stream(output_notes)\n",
    "midi_stream.write('midi', fp=f'anime_music_{time()}.mid')"
   ]
  }
 ],
 "metadata": {
  "kernelspec": {
   "display_name": "Python 3",
   "language": "python",
   "name": "python3"
  },
  "language_info": {
   "codemirror_mode": {
    "name": "ipython",
    "version": 3
   },
   "file_extension": ".py",
   "mimetype": "text/x-python",
   "name": "python",
   "nbconvert_exporter": "python",
   "pygments_lexer": "ipython3",
   "version": "3.7.4"
  }
 },
 "nbformat": 4,
 "nbformat_minor": 2
}
